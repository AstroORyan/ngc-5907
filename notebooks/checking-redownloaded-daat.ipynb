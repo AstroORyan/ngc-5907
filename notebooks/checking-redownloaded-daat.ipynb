{
 "cells": [
  {
   "cell_type": "code",
   "execution_count": 1,
   "id": "8488c35d-fdd8-4079-8ba2-945aa81117ac",
   "metadata": {},
   "outputs": [],
   "source": [
    "import glob\n",
    "from tqdm import tqdm\n",
    "\n",
    "from IPython.display import clear_output\n",
    "\n",
    "import matplotlib.pyplot as plt\n",
    "import numpy as np\n",
    "\n",
    "from astropy.io import fits\n",
    "from astropy.coordinates import SkyCoord\n",
    "from astropy.wcs import WCS\n",
    "import astropy.units as u\n",
    "\n",
    "from reproject.mosaicking import find_optimal_celestial_wcs, reproject_and_coadd\n",
    "from reproject import reproject_interp"
   ]
  },
  {
   "cell_type": "markdown",
   "id": "f48040be-d45d-47b3-a89f-50483c54ec53",
   "metadata": {},
   "source": [
    "## Looking at One File"
   ]
  },
  {
   "cell_type": "code",
   "execution_count": 2,
   "id": "43479f93-9dcf-4028-862c-4d8102b6d71a",
   "metadata": {},
   "outputs": [],
   "source": [
    "proj_folder = 'D:/summer-student-proj/'"
   ]
  },
  {
   "cell_type": "code",
   "execution_count": 5,
   "id": "edd291fa-3447-497d-8ab1-954a774d7445",
   "metadata": {},
   "outputs": [],
   "source": [
    "fits_files = glob.glob(f'{proj_folder}/redownloaded-data/*.fits.gz')"
   ]
  },
  {
   "cell_type": "code",
   "execution_count": 8,
   "id": "5c39adc8-86a6-4cda-8df9-dd058948053c",
   "metadata": {},
   "outputs": [],
   "source": [
    "with fits.open(fits_files[0]) as hdul:\n",
    "    data = hdul[0].data\n",
    "    header = hdul[0].header"
   ]
  },
  {
   "cell_type": "code",
   "execution_count": 11,
   "id": "f595736f-786c-4a30-b6ee-d422480eeaf0",
   "metadata": {},
   "outputs": [
    {
     "data": {
      "text/plain": [
       "'BIAS'"
      ]
     },
     "execution_count": 11,
     "metadata": {},
     "output_type": "execute_result"
    }
   ],
   "source": [
    "header['Object']"
   ]
  },
  {
   "cell_type": "code",
   "execution_count": null,
   "id": "8c4b3f9f-7369-4c71-9b09-a36b9a18785a",
   "metadata": {},
   "outputs": [
    {
     "name": "stderr",
     "output_type": "stream",
     "text": [
      " 11%|█▏        | 743/6496 [03:27<23:05,  4.15it/s]"
     ]
    }
   ],
   "source": [
    "obj_list = []\n",
    "for i in tqdm(fits_files):\n",
    "    header = fits.getheader(i)\n",
    "    if header['Object'] == \"OBJECT\":\n",
    "        print('Object!')\n",
    "        break"
   ]
  },
  {
   "cell_type": "code",
   "execution_count": null,
   "id": "edbf4bab-4fd9-4bff-be2e-1fac2700aee9",
   "metadata": {},
   "outputs": [],
   "source": []
  }
 ],
 "metadata": {
  "kernelspec": {
   "display_name": "Python 3 (ipykernel)",
   "language": "python",
   "name": "python3"
  },
  "language_info": {
   "codemirror_mode": {
    "name": "ipython",
    "version": 3
   },
   "file_extension": ".py",
   "mimetype": "text/x-python",
   "name": "python",
   "nbconvert_exporter": "python",
   "pygments_lexer": "ipython3",
   "version": "3.7.16"
  }
 },
 "nbformat": 4,
 "nbformat_minor": 5
}
